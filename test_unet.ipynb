{
 "cells": [
  {
   "cell_type": "code",
   "execution_count": 1,
   "metadata": {},
   "outputs": [],
   "source": [
    "import unet\n",
    "\n",
    "from data.loaders import SteelLoader\n",
    "\n",
    "from tqdm.auto import tqdm"
   ]
  },
  {
   "cell_type": "code",
   "execution_count": 2,
   "metadata": {},
   "outputs": [],
   "source": [
    "loader = SteelLoader()\n",
    "\n",
    "net = unet.simple_unet_v1(3, 5)"
   ]
  },
  {
   "cell_type": "code",
   "execution_count": 3,
   "metadata": {},
   "outputs": [
    {
     "name": "stdout",
     "output_type": "stream",
     "text": [
      "Sequential(\n",
      "  (0): Conv2d(192, 64, kernel_size=(3, 3), stride=(1, 1), padding=(1, 1))\n",
      "  (1): ReLU()\n",
      "  (2): Conv2d(64, 64, kernel_size=(3, 3), stride=(1, 1), padding=(1, 1))\n",
      "  (3): ReLU()\n",
      ")\n",
      "torch.Size([30, 128, 16, 100])\n",
      "torch.Size([30, 64, 32, 200])\n",
      "torch.Size([30, 192, 32, 200])\n",
      "Sequential(\n",
      "  (0): Conv2d(96, 32, kernel_size=(3, 3), stride=(1, 1), padding=(1, 1))\n",
      "  (1): ReLU()\n",
      "  (2): Conv2d(32, 32, kernel_size=(3, 3), stride=(1, 1), padding=(1, 1))\n",
      "  (3): ReLU()\n",
      ")\n",
      "torch.Size([30, 64, 32, 200])\n",
      "torch.Size([30, 32, 64, 400])\n",
      "torch.Size([30, 96, 64, 400])\n",
      "Sequential(\n",
      "  (0): Conv2d(64, 32, kernel_size=(3, 3), stride=(1, 1), padding=(1, 1))\n",
      "  (1): ReLU()\n",
      "  (2): Conv2d(32, 32, kernel_size=(3, 3), stride=(1, 1), padding=(1, 1))\n",
      "  (3): ReLU()\n",
      ")\n",
      "torch.Size([30, 32, 64, 400])\n",
      "torch.Size([30, 32, 128, 800])\n",
      "torch.Size([30, 64, 128, 800])\n",
      "Sequential(\n",
      "  (0): Conv2d(37, 5, kernel_size=(3, 3), stride=(1, 1), padding=(1, 1))\n",
      "  (1): ReLU()\n",
      "  (2): Conv2d(5, 5, kernel_size=(3, 3), stride=(1, 1), padding=(1, 1))\n",
      "  (3): ReLU()\n",
      ")\n",
      "torch.Size([30, 32, 128, 800])\n",
      "torch.Size([30, 5, 256, 1600])\n",
      "torch.Size([30, 37, 256, 1600])\n",
      "torch.Size([30, 5, 256, 1600])\n",
      "torch.Size([30, 5, 256, 1600])\n"
     ]
    }
   ],
   "source": [
    "for x, y in loader:\n",
    "    pred = net(x)\n",
    "    print(pred.shape)\n",
    "    print(y.shape)\n",
    "    diff = y - pred\n",
    "    print(pred)\n",
    "\n",
    "    break"
   ]
  }
 ],
 "metadata": {
  "kernelspec": {
   "display_name": "Python 3",
   "language": "python",
   "name": "python3"
  },
  "language_info": {
   "codemirror_mode": {
    "name": "ipython",
    "version": 3
   },
   "file_extension": ".py",
   "mimetype": "text/x-python",
   "name": "python",
   "nbconvert_exporter": "python",
   "pygments_lexer": "ipython3",
   "version": "3.6.8"
  },
  "orig_nbformat": 4
 },
 "nbformat": 4,
 "nbformat_minor": 2
}
