{
 "cells": [
  {
   "cell_type": "code",
   "execution_count": 1,
   "metadata": {},
   "outputs": [],
   "source": [
    "import fcnn\n",
    "import numpy as np\n",
    "from torch import nn, Tensor\n",
    "from os import path\n",
    "\n",
    "steel_data_dir = path.abspath(path.join(\"data\", \"steel_defect\", \"processed\"))\n",
    "steel_images = path.join(steel_data_dir, \"images\")\n",
    "steel_labels = path.join(steel_data_dir, \"labels\")"
   ]
  },
  {
   "cell_type": "code",
   "execution_count": 2,
   "metadata": {},
   "outputs": [],
   "source": [
    "IMG_OF_INTEREST = \"000f6bf48\""
   ]
  },
  {
   "cell_type": "code",
   "execution_count": 3,
   "metadata": {},
   "outputs": [],
   "source": [
    "fname = IMG_OF_INTEREST + \".npy\"\n",
    "img_array = np.load(path.join(steel_images, fname))\n",
    "img_array = np.swapaxes(img_array, 0, 2)\n",
    "img_array = np.swapaxes(img_array, 1, 2)"
   ]
  },
  {
   "cell_type": "code",
   "execution_count": 4,
   "metadata": {},
   "outputs": [
    {
     "name": "stdout",
     "output_type": "stream",
     "text": [
      "torch.Size([1, 3, 256, 1600])\n"
     ]
    }
   ],
   "source": [
    "img_tensor = Tensor(img_array).unsqueeze(0)\n",
    "print(img_tensor.shape)"
   ]
  },
  {
   "cell_type": "code",
   "execution_count": 5,
   "metadata": {},
   "outputs": [],
   "source": [
    "net = fcnn.SimpleFCN()\n",
    "y = net(img_tensor)"
   ]
  },
  {
   "cell_type": "code",
   "execution_count": 6,
   "metadata": {},
   "outputs": [
    {
     "name": "stdout",
     "output_type": "stream",
     "text": [
      "torch.Size([1, 4, 256, 1600])\n",
      "tensor([0.2498, 0.2795, 0.2798, 0.1908], grad_fn=<SelectBackward0>)\n",
      "tensor([[[[0.2498, 0.1552, 0.1541,  ..., 0.1726, 0.1433, 0.0759],\n",
      "          [0.1246, 0.0984, 0.0898,  ..., 0.1296, 0.0985, 0.0726],\n",
      "          [0.1306, 0.1145, 0.1103,  ..., 0.1547, 0.1180, 0.0807],\n",
      "          ...,\n",
      "          [0.1795, 0.1848, 0.1707,  ..., 0.2712, 0.1858, 0.1244],\n",
      "          [0.2199, 0.2291, 0.2321,  ..., 0.2885, 0.1977, 0.1279],\n",
      "          [0.2818, 0.3031, 0.3245,  ..., 0.5440, 0.4929, 0.3268]],\n",
      "\n",
      "         [[0.2795, 0.4414, 0.4436,  ..., 0.4555, 0.4858, 0.5198],\n",
      "          [0.2977, 0.3258, 0.3261,  ..., 0.4972, 0.5834, 0.4969],\n",
      "          [0.3711, 0.4066, 0.4106,  ..., 0.4972, 0.5959, 0.4728],\n",
      "          ...,\n",
      "          [0.1982, 0.2305, 0.2560,  ..., 0.2901, 0.4889, 0.3929],\n",
      "          [0.1854, 0.2167, 0.2367,  ..., 0.2883, 0.4781, 0.3845],\n",
      "          [0.2144, 0.1725, 0.1728,  ..., 0.1348, 0.2058, 0.2441]],\n",
      "\n",
      "         [[0.2798, 0.2655, 0.2639,  ..., 0.2832, 0.2784, 0.2603],\n",
      "          [0.2051, 0.1862, 0.1817,  ..., 0.2374, 0.1946, 0.2351],\n",
      "          [0.2075, 0.2096, 0.2085,  ..., 0.2457, 0.1984, 0.2950],\n",
      "          ...,\n",
      "          [0.2724, 0.2632, 0.2461,  ..., 0.3467, 0.2558, 0.3102],\n",
      "          [0.2693, 0.2919, 0.2754,  ..., 0.3438, 0.2628, 0.3312],\n",
      "          [0.2229, 0.2315, 0.2319,  ..., 0.2310, 0.2258, 0.2881]],\n",
      "\n",
      "         [[0.1908, 0.1379, 0.1383,  ..., 0.0887, 0.0925, 0.1439],\n",
      "          [0.3726, 0.3896, 0.4023,  ..., 0.1358, 0.1235, 0.1954],\n",
      "          [0.2908, 0.2693, 0.2706,  ..., 0.1024, 0.0877, 0.1515],\n",
      "          ...,\n",
      "          [0.3499, 0.3216, 0.3272,  ..., 0.0920, 0.0695, 0.1725],\n",
      "          [0.3254, 0.2623, 0.2558,  ..., 0.0794, 0.0614, 0.1564],\n",
      "          [0.2809, 0.2928, 0.2707,  ..., 0.0902, 0.0755, 0.1410]]]],\n",
      "       grad_fn=<SoftmaxBackward0>)\n"
     ]
    }
   ],
   "source": [
    "print(y.shape)\n",
    "print(y[0,:,0,0])\n",
    "print(y)"
   ]
  },
  {
   "cell_type": "code",
   "execution_count": null,
   "metadata": {},
   "outputs": [],
   "source": []
  }
 ],
 "metadata": {
  "kernelspec": {
   "display_name": "Python 3",
   "language": "python",
   "name": "python3"
  },
  "language_info": {
   "codemirror_mode": {
    "name": "ipython",
    "version": 3
   },
   "file_extension": ".py",
   "mimetype": "text/x-python",
   "name": "python",
   "nbconvert_exporter": "python",
   "pygments_lexer": "ipython3",
   "version": "3.6.8"
  },
  "orig_nbformat": 4
 },
 "nbformat": 4,
 "nbformat_minor": 2
}
