{
 "cells": [
  {
   "cell_type": "code",
   "execution_count": 242,
   "metadata": {},
   "outputs": [],
   "source": [
    "import os\n",
    "from torch.utils.data import DataLoader\n",
    "from data.loaders import SteelLoader, SegmentationMnistDataset\n",
    "from tqdm.auto import tqdm\n",
    "import numpy as np\n",
    "\n",
    "import matplotlib.pyplot as plt\n",
    "import matplotlib\n",
    "import seaborn as sns\n",
    "import seaborn_image as isns"
   ]
  },
  {
   "cell_type": "code",
   "execution_count": 243,
   "metadata": {},
   "outputs": [],
   "source": [
    "n_class = 11\n",
    "class_names = [ \"0\", \"1\", \"2\", \"3\", \"4\", \"5\", \"6\", \"7\", \"8\", \"9\", \"No digit\"]\n",
    "dataname = \"M2NIST\""
   ]
  },
  {
   "cell_type": "code",
   "execution_count": 244,
   "metadata": {},
   "outputs": [],
   "source": [
    "loader = DataLoader(SegmentationMnistDataset(False))"
   ]
  },
  {
   "cell_type": "code",
   "execution_count": 245,
   "metadata": {},
   "outputs": [],
   "source": [
    "# mnist 1, \n",
    "specific_item_ind = 1\n",
    "specific_item = loader.dataset[specific_item_ind]"
   ]
  },
  {
   "cell_type": "code",
   "execution_count": 246,
   "metadata": {},
   "outputs": [],
   "source": [
    "counts = np.zeros(n_class)\n",
    "classes_represented = np.zeros(n_class)"
   ]
  },
  {
   "cell_type": "code",
   "execution_count": 247,
   "metadata": {},
   "outputs": [],
   "source": [
    "for x, y, in loader:\n",
    "    x = np.array(x)\n",
    "    y = np.array(y)\n",
    "\n",
    "    y_n_classes_represented = np.count_nonzero(np.sum(y, (2, 3))[:,:-1], axis = 1)\n",
    "    for i in y_n_classes_represented:\n",
    "        classes_represented[int(i)] += 1\n",
    "\n",
    "    for i in range(n_class):\n",
    "        counts[i] += np.sum(y[:, i])"
   ]
  },
  {
   "cell_type": "code",
   "execution_count": 248,
   "metadata": {},
   "outputs": [],
   "source": [
    "counts_normed = counts / np.sum(counts)\n",
    "\n",
    "last_nonzero_rep_ind = 0\n",
    "for i in range(n_class):\n",
    "    if classes_represented[i] > 0:\n",
    "        last_nonzero_rep_ind = i\n",
    "\n",
    "classes_represented = classes_represented[:last_nonzero_rep_ind + 1]\n",
    "\n",
    "class_representation_normed = classes_represented / np.sum(classes_represented)"
   ]
  },
  {
   "cell_type": "code",
   "execution_count": 249,
   "metadata": {},
   "outputs": [
    {
     "name": "stdout",
     "output_type": "stream",
     "text": [
      "[  17733.   10701.   16799.   12738.   13929.   16799.   14091.   13892.\n",
      "   19225.   16295. 2535799.]\n",
      "[0.0065971  0.00398103 0.00624963 0.00473884 0.00518192 0.00624963\n",
      " 0.00524219 0.00516815 0.00715216 0.00606213 0.94337725]\n"
     ]
    }
   ],
   "source": [
    "print(counts)\n",
    "print(counts_normed)"
   ]
  },
  {
   "cell_type": "code",
   "execution_count": 250,
   "metadata": {},
   "outputs": [
    {
     "name": "stdout",
     "output_type": "stream",
     "text": [
      "[  0.  54. 427.  19.]\n",
      "[0.    0.108 0.854 0.038]\n"
     ]
    }
   ],
   "source": [
    "print(classes_represented)\n",
    "print(class_representation_normed)"
   ]
  },
  {
   "attachments": {},
   "cell_type": "markdown",
   "metadata": {},
   "source": [
    "Plot pixel representation of the classes"
   ]
  },
  {
   "cell_type": "code",
   "execution_count": 251,
   "metadata": {},
   "outputs": [],
   "source": [
    "detection_colors = matplotlib.cm.get_cmap(\"rainbow\", n_class - 1)\n",
    "c_list = [detection_colors(i / (n_class - 1)) for i in range(n_class - 1)] + [(0,0,0)] \n",
    "class_colors = matplotlib.colors.LinearSegmentedColormap.from_list(\"class_colors\", c_list)\n",
    "sns_class_colors = sns.color_palette([class_colors(i / (n_class - 1)) for i in range(n_class)])"
   ]
  },
  {
   "cell_type": "code",
   "execution_count": 252,
   "metadata": {},
   "outputs": [
    {
     "name": "stderr",
     "output_type": "stream",
     "text": [
      "/home/011/e/ec/ecj200000/.local/lib/python3.6/site-packages/seaborn/_decorators.py:43: FutureWarning: Pass the following variables as keyword args: x, y. From version 0.12, the only valid positional argument will be `data`, and passing other arguments without an explicit keyword will result in an error or misinterpretation.\n",
      "  FutureWarning\n"
     ]
    },
    {
     "data": {
      "text/plain": [
       "Text(0.5, 1.0, 'M2NIST Pixel Class Distribution')"
      ]
     },
     "execution_count": 252,
     "metadata": {},
     "output_type": "execute_result"
    },
    {
     "data": {
      "image/png": "[encoded data removed]",
      "text/plain": [
       "<Figure size 432x288 with 1 Axes>"
      ]
     },
     "metadata": {
      "needs_background": "light"
     },
     "output_type": "display_data"
    }
   ],
   "source": [
    "pixel_distr = sns.barplot(class_names,\n",
    "            counts_normed,\n",
    "            palette=sns_class_colors)\n",
    "pixel_distr.set_yscale(\"log\")\n",
    "pixel_distr.set_xlabel(\"Pixel Class\")\n",
    "pixel_distr.set_ylabel(\"Proportion of pixels (log)\")\n",
    "pixel_distr.set_title(f\"{dataname} Pixel Class Distribution\")"
   ]
  },
  {
   "cell_type": "code",
   "execution_count": 253,
   "metadata": {},
   "outputs": [
    {
     "data": {
      "text/plain": [
       "Text(0.5, 1.0, 'M2NIST Multiple-Class Observations')"
      ]
     },
     "execution_count": 253,
     "metadata": {},
     "output_type": "execute_result"
    },
    {
     "data": {
      "image/png": "[encoded data removed]",
      "text/plain": [
       "<Figure size 432x288 with 1 Axes>"
      ]
     },
     "metadata": {
      "needs_background": "light"
     },
     "output_type": "display_data"
    }
   ],
   "source": [
    "distr_n_represented = sns.barplot(x = [i for i in range(len(classes_represented))],\n",
    "                                  y = class_representation_normed,\n",
    "                                  color = \"darkorange\")\n",
    "distr_n_represented.set_xlabel(\"Number of Classes Represented\")\n",
    "distr_n_represented.set_ylabel(\"Observation Proportion\")\n",
    "distr_n_represented.set_title(f\"{dataname} Multiple-Class Observations\")"
   ]
  },
  {
   "cell_type": "code",
   "execution_count": 254,
   "metadata": {},
   "outputs": [],
   "source": [
    "def plot_image(img, title):\n",
    "    img = np.transpose(img, (1,2, 0))\n",
    "    iplot = isns.imgplot(img, cmap = \"gray\", cbar = False, origin=\"upper\")\n",
    "    iplot.set_title(title)\n",
    "\n",
    "def plot_classes(img, title):\n",
    "    class_img = (np.argmax(img, axis = 0)) / (n_class - 1)\n",
    "    iplot = isns.imgplot(class_img, \n",
    "                         cmap = class_colors,\n",
    "                         vmin = 0, vmax = 1,\n",
    "                         origin = \"upper\",\n",
    "                         cbar = False)\n",
    "    iplot.set_title(title)\n"
   ]
  },
  {
   "cell_type": "code",
   "execution_count": 255,
   "metadata": {},
   "outputs": [
    {
     "data": {
      "image/png": "[encoded data removed]",
      "text/plain": [
       "<Figure size 432x288 with 1 Axes>"
      ]
     },
     "metadata": {},
     "output_type": "display_data"
    }
   ],
   "source": [
    "plot_image(specific_item[0], \"M2NIST Input\")"
   ]
  },
  {
   "cell_type": "code",
   "execution_count": 256,
   "metadata": {},
   "outputs": [
    {
     "data": {
      "image/png": "[encoded data removed]",
      "text/plain": [
       "<Figure size 432x288 with 1 Axes>"
      ]
     },
     "metadata": {},
     "output_type": "display_data"
    }
   ],
   "source": [
    "plot_classes(specific_item[1], \"M2NIST Label\")"
   ]
  }
 ],
 "metadata": {
  "kernelspec": {
   "display_name": "Python 3",
   "language": "python",
   "name": "python3"
  },
  "language_info": {
   "codemirror_mode": {
    "name": "ipython",
    "version": 3
   },
   "file_extension": ".py",
   "mimetype": "text/x-python",
   "name": "python",
   "nbconvert_exporter": "python",
   "pygments_lexer": "ipython3",
   "version": "3.6.8"
  },
  "orig_nbformat": 4
 },
 "nbformat": 4,
 "nbformat_minor": 2
}
