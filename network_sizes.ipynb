{
 "cells": [
  {
   "cell_type": "code",
   "execution_count": 23,
   "metadata": {},
   "outputs": [],
   "source": [
    "import fcnn\n",
    "import unet\n",
    "from functools import reduce"
   ]
  },
  {
   "cell_type": "code",
   "execution_count": 24,
   "metadata": {},
   "outputs": [],
   "source": [
    "def count_params(net):\n",
    "    params = 0\n",
    "    for t in net.parameters():\n",
    "        params += reduce(lambda a, b: a * b, t.shape, 1)\n",
    "\n",
    "    return params"
   ]
  },
  {
   "cell_type": "code",
   "execution_count": 25,
   "metadata": {},
   "outputs": [
    {
     "name": "stdout",
     "output_type": "stream",
     "text": [
      "M2NIST\n",
      "SimpleFCN: 72331\n",
      "Mini U-Net: 922371\n",
      "Paper U-Net: 56536867\n"
     ]
    }
   ],
   "source": [
    "print(\"M2NIST\")\n",
    "d_in = 1\n",
    "d_out = 11\n",
    "\n",
    "print(\"SimpleFCN:\", count_params(fcnn.SimpleFCN(d_in, d_out)))\n",
    "print(\"Mini U-Net:\", count_params(unet.simple_unet_v2(d_in, d_out)))\n",
    "print(\"Paper U-Net:\", count_params(unet.simple_unet_paper_version(d_in, d_out)))"
   ]
  },
  {
   "cell_type": "code",
   "execution_count": 26,
   "metadata": {},
   "outputs": [
    {
     "name": "stdout",
     "output_type": "stream",
     "text": [
      "Steel\n",
      "SimpleFCN: 71173\n",
      "Mini U-Net: 917745\n",
      "Paper U-Net: 56529361\n"
     ]
    }
   ],
   "source": [
    "print(\"Steel\")\n",
    "d_in = 3\n",
    "d_out = 5\n",
    "\n",
    "print(\"SimpleFCN:\", count_params(fcnn.SimpleFCN(d_in, d_out)))\n",
    "print(\"Mini U-Net:\", count_params(unet.simple_unet_v2(d_in, d_out)))\n",
    "print(\"Paper U-Net:\", count_params(unet.simple_unet_paper_version(d_in, d_out)))"
   ]
  }
 ],
 "metadata": {
  "kernelspec": {
   "display_name": "Python 3",
   "language": "python",
   "name": "python3"
  },
  "language_info": {
   "codemirror_mode": {
    "name": "ipython",
    "version": 3
   },
   "file_extension": ".py",
   "mimetype": "text/x-python",
   "name": "python",
   "nbconvert_exporter": "python",
   "pygments_lexer": "ipython3",
   "version": "3.6.8"
  },
  "orig_nbformat": 4
 },
 "nbformat": 4,
 "nbformat_minor": 2
}
