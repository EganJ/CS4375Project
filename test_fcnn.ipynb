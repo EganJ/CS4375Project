{
 "cells": [
  {
   "cell_type": "code",
   "execution_count": null,
   "metadata": {},
   "outputs": [],
   "source": [
    "import fcnn\n",
    "import numpy as np\n",
    "import matplotlib.pyplot as plt\n",
    "from tqdm.auto import tqdm\n",
    "import torch\n",
    "from torch import nn, Tensor\n",
    "from os import path\n",
    "from data.loaders import SteelLoader"
   ]
  },
  {
   "cell_type": "code",
   "execution_count": null,
   "metadata": {},
   "outputs": [],
   "source": [
    "data_source = \"simple_steel_training_results/lr-0.0001/\"\n",
    "checkpoint = \"epoch11state.torch\""
   ]
  },
  {
   "cell_type": "code",
   "execution_count": null,
   "metadata": {},
   "outputs": [],
   "source": [
    "epoch_losses = []\n",
    "with open(path.join(data_source, \"train_losses.txt\"), \"r\") as tloss:\n",
    "    epoch_losses=tloss.readlines()\n",
    "    epoch_losses = [float(l) for l in epoch_losses]"
   ]
  },
  {
   "cell_type": "code",
   "execution_count": null,
   "metadata": {},
   "outputs": [],
   "source": [
    "plt.figure()\n",
    "plt.plot(epoch_losses)\n",
    "plt.show()\n",
    "plt.close()"
   ]
  },
  {
   "cell_type": "code",
   "execution_count": null,
   "metadata": {},
   "outputs": [],
   "source": [
    "network = fcnn.SimpleFCN(dim_out=5)\n",
    "network.load_state_dict(torch.load(path.join(data_source, checkpoint),\n",
    "                                    map_location=torch.device(\"cpu\")))\n",
    "network.eval()\n",
    "\n",
    "steel_train = SteelLoader(train = False)"
   ]
  },
  {
   "cell_type": "code",
   "execution_count": null,
   "metadata": {},
   "outputs": [],
   "source": [
    "steel_train.shuffle()\n",
    "for x, y in tqdm(steel_train):\n",
    "    y_pred = network(x)\n",
    "    break\n",
    "    # other metrics here"
   ]
  },
  {
   "cell_type": "code",
   "execution_count": null,
   "metadata": {},
   "outputs": [],
   "source": [
    "img_ind = 2\n",
    "img = x[img_ind]\n",
    "target_labels = y[img_ind].detach()\n",
    "predicted_labels = y_pred[img_ind].detach()"
   ]
  },
  {
   "cell_type": "code",
   "execution_count": null,
   "metadata": {},
   "outputs": [],
   "source": [
    "def plot_img(arr):\n",
    "    if len(arr.shape) == 3 and arr.shape[0] > 1:\n",
    "        arr = np.sum(np.array(arr)[:4], axis = 0)\n",
    "    plt.figure()\n",
    "    plt.imshow(arr, cmap=\"gray\")\n",
    "    plt.show()\n",
    "    plt.close()"
   ]
  },
  {
   "cell_type": "code",
   "execution_count": null,
   "metadata": {},
   "outputs": [],
   "source": [
    "plot_img(img)\n",
    "for channel in range(5):\n",
    "    print(\"channel \", channel)\n",
    "    plot_img(target_labels[channel])\n",
    "    plot_img(predicted_labels[channel])"
   ]
  }
 ],
 "metadata": {
  "kernelspec": {
   "display_name": "Python 3",
   "language": "python",
   "name": "python3"
  },
  "language_info": {
   "codemirror_mode": {
    "name": "ipython",
    "version": 3
   },
   "file_extension": ".py",
   "mimetype": "text/x-python",
   "name": "python",
   "nbconvert_exporter": "python",
   "pygments_lexer": "ipython3",
   "version": "3.6.8"
  },
  "orig_nbformat": 4
 },
 "nbformat": 4,
 "nbformat_minor": 2
}
