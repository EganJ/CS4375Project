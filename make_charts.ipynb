{
 "cells": [
  {
   "cell_type": "code",
   "execution_count": 36,
   "metadata": {},
   "outputs": [],
   "source": [
    "import os\n",
    "import torch\n",
    "from torch.utils.data import DataLoader\n",
    "import fcnn, unet\n",
    "import metrics\n",
    "from data.loaders import SteelLoader, AitexDataset, SegmentationMnistDataset\n",
    "from tqdm.auto import tqdm\n",
    "import numpy as np\n",
    "\n",
    "import matplotlib.pyplot as plt\n",
    "import matplotlib\n",
    "import seaborn as sns\n",
    "import seaborn_image as isns"
   ]
  },
  {
   "attachments": {},
   "cell_type": "markdown",
   "metadata": {},
   "source": [
    "Specify model and epoch to test"
   ]
  },
  {
   "cell_type": "code",
   "execution_count": 37,
   "metadata": {},
   "outputs": [],
   "source": [
    "device = torch.device(\"cuda:1\")\n",
    "res_dir = \"training_results/mnist-simplefcn-lr-0.001\"\n",
    "load_epoch = 50\n",
    "\n",
    "# aitex, mnist, steel   \n",
    "data = \"mnist\"\n",
    "\n",
    "# simplefcn, unet_v2, unet_paper\n",
    "model_type = \"simplefcn\""
   ]
  },
  {
   "attachments": {},
   "cell_type": "markdown",
   "metadata": {},
   "source": [
    "Load data and model:"
   ]
  },
  {
   "cell_type": "code",
   "execution_count": 38,
   "metadata": {},
   "outputs": [],
   "source": [
    "if data == \"aitex\":\n",
    "        # increasing batch size risks running out of memory for unets\n",
    "        loader = DataLoader(AitexDataset(train=False), batch_size= 3)\n",
    "        dim_in = 1\n",
    "        dim_out = 2\n",
    "elif data == \"steel\":\n",
    "        # increasing batch size risks running out of memory for unets\n",
    "        loader = SteelLoader(train = False, batch_size=10) \n",
    "        dim_in = 3\n",
    "        dim_out = 5\n",
    "elif data == \"mnist\":\n",
    "        loader = DataLoader(SegmentationMnistDataset(train = False), batch_size= 10)\n",
    "        dim_in = 1\n",
    "        dim_out = 11\n",
    "else:\n",
    "        raise ValueError(\"Unkown Dataset: \" + data)"
   ]
  },
  {
   "cell_type": "code",
   "execution_count": 39,
   "metadata": {},
   "outputs": [
    {
     "data": {
      "text/plain": [
       "SimpleFCN(\n",
       "  (downsample_layers): ModuleList(\n",
       "    (0): Sequential(\n",
       "      (0): Conv2d(1, 32, kernel_size=(3, 3), stride=(1, 1), padding=(1, 1))\n",
       "      (1): BatchNorm2d(32, eps=1e-05, momentum=0.1, affine=True, track_running_stats=True)\n",
       "      (2): ReLU()\n",
       "      (3): MaxPool2d(kernel_size=2, stride=2, padding=0, dilation=1, ceil_mode=False)\n",
       "    )\n",
       "    (1): Sequential(\n",
       "      (0): Conv2d(32, 32, kernel_size=(3, 3), stride=(1, 1), padding=(1, 1))\n",
       "      (1): BatchNorm2d(32, eps=1e-05, momentum=0.1, affine=True, track_running_stats=True)\n",
       "      (2): ReLU()\n",
       "      (3): MaxPool2d(kernel_size=2, stride=2, padding=0, dilation=1, ceil_mode=False)\n",
       "    )\n",
       "  )\n",
       "  (prediction_layer): Sequential(\n",
       "    (0): Conv2d(32, 32, kernel_size=(7, 7), stride=(1, 1), padding=(3, 3))\n",
       "    (1): ReLU()\n",
       "  )\n",
       "  (upsample_layers): ModuleList(\n",
       "    (0): Sequential(\n",
       "      (0): Upsample(scale_factor=2.0, mode=nearest)\n",
       "      (1): Conv2d(32, 32, kernel_size=(3, 3), stride=(1, 1), padding=(1, 1))\n",
       "    )\n",
       "    (1): Sequential(\n",
       "      (0): Upsample(scale_factor=2.0, mode=nearest)\n",
       "      (1): Conv2d(32, 11, kernel_size=(3, 3), stride=(1, 1), padding=(1, 1))\n",
       "    )\n",
       "  )\n",
       "  (final_layer): Softmax2d()\n",
       ")"
      ]
     },
     "execution_count": 39,
     "metadata": {},
     "output_type": "execute_result"
    }
   ],
   "source": [
    "# Select the model type to use\n",
    "if model_type == \"simplefcn\":\n",
    "    network = fcnn.SimpleFCN(dim_in = dim_in, dim_out = dim_out)\n",
    "elif model_type == \"unet_v2\":\n",
    "        network = unet.simple_unet_v2(dim_in, dim_out)\n",
    "elif model_type == \"unet_paper\":\n",
    "        network = unet.simple_unet_paper_version(dim_in, dim_out)\n",
    "else:\n",
    "        raise ValueError(\"Unknown model type: \" + model_type)\n",
    "\n",
    "# use selected device\n",
    "network.to(device)\n",
    "\n",
    "# load state\n",
    "network.load_state_dict(\n",
    "        torch.load(os.path.join(res_dir, f\"epoch{load_epoch}state.torch\"),\n",
    "                map_location=device))\n",
    "  \n",
    "network.eval()"
   ]
  },
  {
   "attachments": {},
   "cell_type": "markdown",
   "metadata": {},
   "source": [
    "Calculate the confusion matrix of predictions:"
   ]
  },
  {
   "cell_type": "code",
   "execution_count": 40,
   "metadata": {},
   "outputs": [],
   "source": [
    "confusion_matrix = metrics.confusion_matrix([], [], n_classes= dim_out)\n",
    "\n",
    "# confusion matrix if we agglomerate all detection classes in to one:\n",
    "# confusion on whether there is a detection or not\n",
    "null_confusion_matrix = metrics.confusion_matrix([], [], n_classes = 2)"
   ]
  },
  {
   "cell_type": "code",
   "execution_count": 41,
   "metadata": {},
   "outputs": [
    {
     "data": {
      "application/vnd.jupyter.widget-view+json": {
       "model_id": "05226dfa41454a79be38216f19fefed2",
       "version_major": 2,
       "version_minor": 0
      },
      "text/plain": [
       "  0%|          | 0/50 [00:00<?, ?it/s]"
      ]
     },
     "metadata": {},
     "output_type": "display_data"
    }
   ],
   "source": [
    "for x, y in tqdm(loader):\n",
    "    \n",
    "    pred_probs = network(x.to(device)).to(\"cpu\").detach()\n",
    "\n",
    "    # update the confusion matrix\n",
    "    null_class = y.shape[1] - 1 # channel for no detection is last\n",
    "\n",
    "    pred_labels = np.array(pred_probs.argmax(dim = 1)).flatten()\n",
    "    true_labels = np.array(y.argmax(dim = 1)).flatten()\n",
    "    pred_null = (np.array(pred_probs)[:,-1] > 0.5).flatten()\n",
    "\n",
    "    confusion_matrix += metrics.confusion_matrix(true_labels, pred_labels, y.shape[1])\n",
    "    null_confusion_matrix += metrics.confusion_matrix(true_labels == null_class, pred_null, 2)"
   ]
  },
  {
   "attachments": {},
   "cell_type": "markdown",
   "metadata": {},
   "source": [
    "# Plots"
   ]
  },
  {
   "cell_type": "code",
   "execution_count": 42,
   "metadata": {},
   "outputs": [],
   "source": [
    "detection_colors = matplotlib.cm.get_cmap(\"rainbow\", dim_out - 1)\n",
    "c_list = [detection_colors(i / (dim_out - 1)) for i in range(dim_out - 1)] + [(0,0,0)] \n",
    "class_colors = matplotlib.colors.LinearSegmentedColormap.from_list(\"class_colors\", c_list)"
   ]
  },
  {
   "cell_type": "code",
   "execution_count": 43,
   "metadata": {},
   "outputs": [],
   "source": [
    "def plot_confusion_matrix(conf_mat):\n",
    "    conf_mat = metrics.normalize_confusion(conf_mat)\n",
    "    metrics.apply_names(conf_mat, mnist = (data == \"mnist\"))\n",
    "    plt.figure()\n",
    "    sns.heatmap(conf_mat, vmin = 0, vmax = 1, annot = True, fmt = \".2f\", cmap = \"OrRd\")\n",
    "    plt.xlabel(\"Actual\")\n",
    "    plt.ylabel(\"Predicted\")\n",
    "    plt.show()\n",
    "    plt.close()"
   ]
  },
  {
   "cell_type": "code",
   "execution_count": 44,
   "metadata": {},
   "outputs": [],
   "source": [
    "def plot_channels(img: np.ndarray, ground_truth: np.ndarray, pred: np.ndarray, show_channels = None):\n",
    "    img_sequence = [img]\n",
    "    nc = ground_truth.shape[0]\n",
    "    if show_channels is None:\n",
    "        show_channels = [i for i in range(nc)]\n",
    "    for c in show_channels:\n",
    "        img_sequence.append(ground_truth[c])\n",
    "        img_sequence.append(pred[c])\n",
    "    \n",
    "    for i in range(len(img_sequence)):\n",
    "        if len(img_sequence[i].shape) == 3:\n",
    "            img_sequence[i] = np.array(img_sequence[i]).transpose(1,2,0)\n",
    "\n",
    "    plt.figure()\n",
    "    aspect = img.shape[2] / img.shape[1]\n",
    "    isns.ImageGrid(img_sequence, col_wrap=1, aspect=aspect, vmin = 0, vmax = 1)\n",
    "\n",
    "    plt.show()\n",
    "    plt.close()"
   ]
  },
  {
   "cell_type": "code",
   "execution_count": 45,
   "metadata": {},
   "outputs": [],
   "source": [
    "def plot_predictions(probs: np.ndarray):\n",
    "    nc = probs.shape[0]\n",
    "    normed_lab = (np.argmax(probs, axis = 0)) / (nc - 1)\n",
    "    \n",
    "    isns.imgplot(normed_lab, cmap = class_colors, vmin = 0, vmax = 1, cbar = False)"
   ]
  },
  {
   "attachments": {},
   "cell_type": "markdown",
   "metadata": {},
   "source": [
    "# Metrics"
   ]
  },
  {
   "cell_type": "code",
   "execution_count": 46,
   "metadata": {},
   "outputs": [
    {
     "name": "stdout",
     "output_type": "stream",
     "text": [
      "0.62 & 0.78 & 0.32 & 0.54 & 0.57 & 0.58 & 0.62 & 0.70 & 0.58 & 0.55 & 0.99\n"
     ]
    }
   ],
   "source": [
    "ious = metrics.metric_iou(confusion_matrix)\n",
    "print(\" & \".join([f\"{iou:0.2f}\" for iou in ious]))"
   ]
  },
  {
   "attachments": {},
   "cell_type": "markdown",
   "metadata": {},
   "source": [
    "# Plots For Real This Time"
   ]
  },
  {
   "cell_type": "code",
   "execution_count": 47,
   "metadata": {},
   "outputs": [
    {
     "data": {
      "image/png": "[encoded data removed]",
      "text/plain": [
       "<Figure size 432x288 with 2 Axes>"
      ]
     },
     "metadata": {
      "needs_background": "light"
     },
     "output_type": "display_data"
    }
   ],
   "source": [
    "plot_confusion_matrix(confusion_matrix)"
   ]
  },
  {
   "cell_type": "code",
   "execution_count": 48,
   "metadata": {},
   "outputs": [
    {
     "data": {
      "image/png": "[encoded data removed]",
      "text/plain": [
       "<Figure size 432x288 with 2 Axes>"
      ]
     },
     "metadata": {
      "needs_background": "light"
     },
     "output_type": "display_data"
    }
   ],
   "source": [
    "plot_confusion_matrix(null_confusion_matrix)"
   ]
  },
  {
   "attachments": {},
   "cell_type": "markdown",
   "metadata": {},
   "source": [
    "# Get Example Output"
   ]
  },
  {
   "cell_type": "code",
   "execution_count": 49,
   "metadata": {},
   "outputs": [],
   "source": [
    "data_member_ind = 1\n",
    "\n",
    "x, y = loader.dataset[data_member_ind]\n",
    "\n",
    "x = torch.unsqueeze(x, 0).to(device)\n",
    "\n",
    "member_pred = np.array(network(x)[0].detach().to(\"cpu\"))"
   ]
  },
  {
   "cell_type": "code",
   "execution_count": 50,
   "metadata": {},
   "outputs": [
    {
     "data": {
      "image/png": "[encoded data removed]",
      "text/plain": [
       "<Figure size 432x288 with 1 Axes>"
      ]
     },
     "metadata": {},
     "output_type": "display_data"
    }
   ],
   "source": [
    "plot_predictions(member_pred)"
   ]
  },
  {
   "cell_type": "code",
   "execution_count": 51,
   "metadata": {},
   "outputs": [
    {
     "ename": "NameError",
     "evalue": "name 'i' is not defined",
     "output_type": "error",
     "traceback": [
      "\u001b[0;31m---------------------------------------------------------------------------\u001b[0m",
      "\u001b[0;31mNameError\u001b[0m                                 Traceback (most recent call last)",
      "\u001b[0;32m<ipython-input-51-6fc881c1b238>\u001b[0m in \u001b[0;36m<module>\u001b[0;34m\u001b[0m\n\u001b[0;32m----> 1\u001b[0;31m \u001b[0mplot_channels\u001b[0m\u001b[0;34m(\u001b[0m\u001b[0mx\u001b[0m\u001b[0;34m[\u001b[0m\u001b[0mi\u001b[0m\u001b[0;34m]\u001b[0m\u001b[0;34m,\u001b[0m \u001b[0mnp\u001b[0m\u001b[0;34m.\u001b[0m\u001b[0marray\u001b[0m\u001b[0;34m(\u001b[0m\u001b[0mpred_probs\u001b[0m\u001b[0;34m[\u001b[0m\u001b[0mi\u001b[0m\u001b[0;34m]\u001b[0m\u001b[0;34m)\u001b[0m\u001b[0;34m,\u001b[0m \u001b[0mnp\u001b[0m\u001b[0;34m.\u001b[0m\u001b[0marray\u001b[0m\u001b[0;34m(\u001b[0m\u001b[0my\u001b[0m\u001b[0;34m[\u001b[0m\u001b[0mi\u001b[0m\u001b[0;34m]\u001b[0m\u001b[0;34m)\u001b[0m\u001b[0;34m)\u001b[0m\u001b[0;34m\u001b[0m\u001b[0;34m\u001b[0m\u001b[0m\n\u001b[0m",
      "\u001b[0;31mNameError\u001b[0m: name 'i' is not defined"
     ]
    }
   ],
   "source": [
    "plot_channels(x[i], np.array(pred_probs[i]), np.array(y[i]))"
   ]
  }
 ],
 "metadata": {
  "kernelspec": {
   "display_name": "Python 3",
   "language": "python",
   "name": "python3"
  },
  "language_info": {
   "codemirror_mode": {
    "name": "ipython",
    "version": 3
   },
   "file_extension": ".py",
   "mimetype": "text/x-python",
   "name": "python",
   "nbconvert_exporter": "python",
   "pygments_lexer": "ipython3",
   "version": "3.6.8"
  },
  "orig_nbformat": 4
 },
 "nbformat": 4,
 "nbformat_minor": 2
}
